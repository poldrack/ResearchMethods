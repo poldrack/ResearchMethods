{
 "cells": [
  {
   "cell_type": "code",
   "execution_count": null,
   "id": "c91bc086",
   "metadata": {
    "title": "markdown"
   },
   "outputs": [],
   "source": [
    "# ### NARPS behavioral analysis"
   ]
  },
  {
   "cell_type": "code",
   "execution_count": null,
   "id": "c53c84cd",
   "metadata": {
    "title": "codecell"
   },
   "outputs": [],
   "source": [
    "\n",
    "import pandas as pd\n",
    "import seaborn as sns\n",
    "import matplotlib.pyplot as plt\n",
    "import os\n",
    "import numpy as np\n",
    "from prospect_theory import (\n",
    "    calc_subjective_utility, calc_utility_diff, calc_prob_accept,\n",
    "    fit_pt_model\n",
    ")\n",
    "from firthlogist import FirthLogisticRegression\n",
    "from keras.models import Sequential\n",
    "from keras.layers import Dense\n",
    "from keras_visualizer import visualizer\n",
    "\n",
    "plt.rcParams.update({'font.size': 16})\n",
    "plt.rcParams['figure.autolayout'] = True"
   ]
  },
  {
   "cell_type": "code",
   "execution_count": null,
   "id": "8ef27ccd",
   "metadata": {
    "title": "codecell"
   },
   "outputs": [],
   "source": [
    "\n",
    "# load data\n",
    "if os.path.exists('/home/poldrack/Dropbox/code/ResearchMethods/Data/NARPS/narps_behav_data.csv'):\n",
    "    alldata = pd.read_csv('/home/poldrack/Dropbox/code/ResearchMethods/Data/NARPS/narps_behav_data.csv')\n",
    "else:\n",
    "    alldata = pd.read_csv('https://raw.githubusercontent.com/poldrack/ResearchMethods/main/Data/NARPS/narps_behav_data.csv')\n",
    "alldata = alldata.query('condition == \"equalIndifference\"')\n",
    "alldata['cert'] = 0\n",
    "alldata = alldata.rename({'RT': 'rt', 'accept': 'response'}, axis=1)\n",
    "subjects = alldata['sub'].unique()\n",
    "\n",
    "print(f'number of subjects = {len(subjects)}')\n",
    "\n",
    "\n"
   ]
  },
  {
   "cell_type": "code",
   "execution_count": null,
   "id": "3decd05f",
   "metadata": {},
   "outputs": [],
   "source": [
    "# plot acceptance as a function of gain/loss across all subjects\n",
    "\n",
    "# acceptance by gain\n",
    "\n",
    "sns.lineplot(data=alldata, x='gain', y='response', legend=False)\n",
    "plt.savefig('narps_gain.png')"
   ]
  },
  {
   "cell_type": "code",
   "execution_count": null,
   "id": "e36d2986",
   "metadata": {},
   "outputs": [],
   "source": [
    "\n",
    "\n",
    "# acceptance by gain\n",
    "\n",
    "sns.lineplot(data=alldata, x='loss', y='response', legend=False)\n",
    "plt.savefig('narps_loss.png')"
   ]
  },
  {
   "cell_type": "code",
   "execution_count": null,
   "id": "87a107fc",
   "metadata": {
    "lines_to_next_cell": 2
   },
   "outputs": [],
   "source": [
    "# heatmap by gain/loss\n",
    "hmap_data = alldata.groupby(['gain', 'loss'])['response'].mean().unstack()\n",
    "sns.heatmap(hmap_data, cmap='coolwarm')\n",
    "\n",
    "plt.savefig('narps_heatmap.png')"
   ]
  },
  {
   "cell_type": "code",
   "execution_count": null,
   "id": "94f06f98",
   "metadata": {},
   "outputs": [],
   "source": [
    "# use regularlized logistic regression to estimate gain/loss parameters\n",
    "# since some subjects have perfect separation\n",
    "\n",
    "\n",
    "lr_params = []\n",
    "fl = {}\n",
    "subdata = {}\n",
    "\n",
    "for sub in subjects:\n",
    "    subdata[sub] = alldata.query(f'sub == {sub}')\n",
    "    try:\n",
    "        fl[sub] = FirthLogisticRegression(max_iter=1000, max_halfstep=1000, \n",
    "                                     skip_pvals=True, skip_ci=True)\n",
    "        fl[sub].fit(subdata[sub][['gain', 'loss']], subdata[sub]['response'])\n",
    "        accuracy = np.mean(\n",
    "            fl[sub].predict(subdata[sub][['gain', 'loss']]) == subdata[sub]['response'])\n",
    "        lr_params.append([\n",
    "            sub, accuracy, \n",
    "            fl[sub].coef_[0], fl[sub].coef_[1], fl[sub].intercept_])\n",
    "    except np.linalg.LinAlgError :\n",
    "        print(f'could not fit subject {sub}')\n",
    "        continue\n",
    "lr_params_df = pd.DataFrame(lr_params, columns=['sub', 'accuracy', 'gain', 'loss', 'intercept'])\n",
    "\n",
    "print('median accuracy = ', np.median(lr_params_df.accuracy))"
   ]
  },
  {
   "cell_type": "code",
   "execution_count": null,
   "id": "85758ad1",
   "metadata": {},
   "outputs": [],
   "source": [
    "\n",
    "plt.figure(figsize=(10,5))\n",
    "plt.subplot(1,3,1)\n",
    "sns.swarmplot(lr_params_df.gain)\n",
    "plt.subplot(1,3,2)\n",
    "sns.swarmplot(lr_params_df.loss)\n",
    "plt.subplot(1,3,3)\n",
    "sns.swarmplot(lr_params_df.accuracy)\n",
    "plt.tight_layout()\n",
    "\n",
    "plt.savefig('narps_logistic_params.png')"
   ]
  },
  {
   "cell_type": "code",
   "execution_count": null,
   "id": "bdd33cc5",
   "metadata": {},
   "outputs": [],
   "source": [
    "# plot logistic response for a given subject\n",
    "\n",
    "sub = 9\n",
    "plot_data = subdata[sub].copy()\n",
    "plot_data['response_fix'] = None\n",
    "offset = .01\n",
    "coord_ctr = {}\n",
    "for i in plot_data.index:\n",
    "    coords = (plot_data.loc[i, 'gain'], plot_data.loc[i, 'response'])\n",
    "    if coords in coord_ctr:\n",
    "        coord_ctr[coords] += 1\n",
    "    else:\n",
    "        coord_ctr[coords] = 1\n",
    "    if plot_data.loc[i, 'response'] == 1:\n",
    "        plot_data.loc[i, 'response_fix'] = 1 - offset * coord_ctr[coords]\n",
    "    else:\n",
    "        plot_data.loc[i, 'response_fix'] =  offset * coord_ctr[coords]\n",
    "\n",
    "plot_data['pred_lr'] = fl[sub].predict_proba(plot_data[['gain', 'loss']])[:,1]\n",
    "sns.scatterplot(data=plot_data, x='gain', y='response_fix', \n",
    "                legend=False)\n",
    "sns.lineplot(data=plot_data, \n",
    "             x='gain', \n",
    "             y='pred_lr',\n",
    "             legend=False, ci=None, color='black')\n",
    "plt.tight_layout()\n",
    "\n",
    "plt.savefig(f'narps_logistic_sub{sub}.png')"
   ]
  },
  {
   "cell_type": "code",
   "execution_count": null,
   "id": "96a5b38d",
   "metadata": {},
   "outputs": [],
   "source": [
    "\n",
    "sns.heatmap(plot_data.groupby(['gain', 'loss'])['pred_lr'].mean().unstack(),\n",
    "            cmap='coolwarm')\n",
    "plt.tight_layout()\n",
    "plt.savefig(f'narps_logistic_heatmap_sub{sub}.png')"
   ]
  },
  {
   "cell_type": "code",
   "execution_count": null,
   "id": "49371690",
   "metadata": {
    "lines_to_next_cell": 2
   },
   "outputs": [],
   "source": [
    "\n",
    "# fit random guessing with bias model\n",
    "\n",
    "def test_guessing_model(df, n_iter=1000):\n",
    "    bias = np.mean(df['response'])\n",
    "    acc = []\n",
    "    for i in range(n_iter):\n",
    "        guesses = np.random.binomial(1, bias, size=df.shape[0])\n",
    "        acc.append(np.mean(np.array(guesses) == df['response']))\n",
    "    return np.mean(acc)\n",
    "\n",
    "sub_guessing_pars = {}\n",
    "for sub in subjects:\n",
    "    bias = np.mean(subdata[sub]['response'])\n",
    "    sub_guessing_pars[sub] = [bias, test_guessing_model(subdata[sub])]\n",
    "    \n",
    "sub_guessing_pars_df = pd.DataFrame(sub_guessing_pars).T\n",
    "sub_guessing_pars_df.columns = ['bias', 'accuracy']\n",
    "print(f'median accuracy (guessing model with bias) = {np.median(sub_guessing_pars_df.accuracy):.02}')"
   ]
  },
  {
   "cell_type": "code",
   "execution_count": null,
   "id": "116a07a2",
   "metadata": {},
   "outputs": [],
   "source": [
    "# plot accuracy vs bias\n",
    "plt.figure(figsize=(10,5))\n",
    "plt.subplot(1,2,1)\n",
    "sns.swarmplot(sub_guessing_pars_df['accuracy'])\n",
    "plt.title(f'accuracy, median = {np.median(sub_guessing_pars_df.accuracy):.03}')\n",
    "\n",
    "plt.subplot(1,2,2)\n",
    "sns.scatterplot(data=sub_guessing_pars_df, x='bias', y='accuracy')\n",
    "plt.tight_layout()\n",
    "plt.savefig('guessing_model_accuracy.png')"
   ]
  },
  {
   "cell_type": "code",
   "execution_count": null,
   "id": "a6a9b2c3",
   "metadata": {},
   "outputs": [],
   "source": [
    "\n",
    "# plot sigmoid\n",
    "\n",
    "def sigmoid(x):\n",
    "    return 1 / (1 + np.exp(-x))\n",
    "\n",
    "x = np.arange(-5, 5, .1)\n",
    "y = sigmoid(x)\n",
    "plt.plot(x, y)\n",
    "plt.axhline(0.5, color='black', linestyle='--', alpha=0.5)\n",
    "plt.axvline(0, color='black')\n",
    "plt.ylabel('probability of acceptance')\n",
    "plt.xlabel('v (gain - loss)')\n",
    "plt.savefig('eu_sigmoid.png')"
   ]
  },
  {
   "cell_type": "code",
   "execution_count": null,
   "id": "c6941f96",
   "metadata": {
    "lines_to_next_cell": 2
   },
   "outputs": [],
   "source": [
    "\n",
    "# plot utility function for EU model\n",
    "\n",
    "values = np.arange(0, 40, .1)\n",
    "y = values ** 0.8\n",
    "\n",
    "plt.plot(values, y)\n",
    "plt.plot([0,40],[0,40], color='black', linestyle='--', alpha=0.5)\n",
    "plt.xlabel('face value')\n",
    "plt.ylabel('subjective value')\n",
    "plt.savefig('narps_EU_value_function.png')"
   ]
  },
  {
   "cell_type": "code",
   "execution_count": null,
   "id": "df12666a",
   "metadata": {},
   "outputs": [],
   "source": [
    "# estimate EU model parameters\n",
    "# equivalent to prospect theory with lambda = 1\n",
    "\n",
    "sub_pars_EU = {}\n",
    "for sub in subjects:\n",
    "    try:\n",
    "      pars_est, ll = fit_pt_model(subdata[sub],\n",
    "                              bounds=((1, 1), (0.1, 2), (1, 1)))\n",
    "    except RuntimeError:\n",
    "      print(f'could not fit subject {sub}')\n",
    "      continue\n",
    "    sub_pars_EU[sub] = np.hstack((pars_est, ll))\n",
    "    print(f'subject {sub} lambda = {pars_est[0]}, rho = {pars_est[1]}, mu = {pars_est[2]}')\n",
    "\n",
    "sub_pars_EU_df = pd.DataFrame(sub_pars_EU).T\n",
    "sub_pars_EU_df.columns = ['lambda', 'rho', 'mu', 'll']\n",
    "\n",
    "plt.figure(figsize=(3,5))\n",
    "sns.swarmplot(sub_pars_EU_df.rho)\n",
    "plt.title(f'rho, median = {np.median(sub_pars_EU_df[\"rho\"]):.02}')\n",
    "plt.tight_layout()\n",
    "\n",
    "plt.savefig('narps_EU_params.png')"
   ]
  },
  {
   "cell_type": "code",
   "execution_count": null,
   "id": "2a803060",
   "metadata": {},
   "outputs": [],
   "source": [
    "\n",
    "pred_output_EU_df = get_predicted_output(sub_pars_EU, subdata)\n",
    "sns.scatterplot(data=pred_output_EU_df, x='pred_accept', y='accept', \n",
    "                legend=False)\n",
    "plt.plot([0,256],[0,256], color='black')\n",
    "plt.savefig('narps_PT_pred_vs_actual.png')\n",
    "\n",
    "print('median accuracy = ', np.median(pred_output_EU_df.predacc))"
   ]
  },
  {
   "cell_type": "code",
   "execution_count": null,
   "id": "149a0cf1",
   "metadata": {},
   "outputs": [],
   "source": [
    "# estimate prospect theory parameters\n",
    "\n",
    "sub_pars_PT = {}\n",
    "for sub in subjects:\n",
    "    try:\n",
    "      pars_est, ll = fit_pt_model(subdata[sub],\n",
    "                              bounds=((0, None), (0.1, 2), (1, 1)))\n",
    "    except RuntimeError:\n",
    "      print(f'could not fit subject {sub}')\n",
    "      continue\n",
    "    sub_pars_PT[sub] = np.hstack((pars_est, ll))\n",
    "    print(f'subject {sub} lambda = {pars_est[0]}, rho = {pars_est[1]}, mu = {pars_est[2]}')\n",
    "\n",
    "sub_pars_PT_df = pd.DataFrame(sub_pars_PT).T\n",
    "sub_pars_PT_df.columns = ['lambda', 'rho', 'mu', ll]\n",
    "\n",
    "plt.figure(figsize=(10,5))\n",
    "plt.subplot(1,2,1)\n",
    "sns.swarmplot(sub_pars_df['lambda'])\n",
    "plt.title(f'loss aversion (lambda), median = {np.median(sub_pars_PT_df[\"lambda\"]):.03}')\n",
    "plt.subplot(1,2,2)\n",
    "sns.swarmplot(sub_pars_df.rho)\n",
    "plt.title(f'curvature (rho), median = {np.median(sub_pars_PT_df[\"rho\"]):.02}')\n",
    "\n",
    "plt.tight_layout()\n",
    "\n",
    "plt.savefig('narps_PT_params.png')"
   ]
  },
  {
   "cell_type": "code",
   "execution_count": null,
   "id": "bd10e574",
   "metadata": {},
   "outputs": [],
   "source": [
    "# plot prospect theory value function for median parameters\n",
    "\n",
    "values = np.arange(-40, 40, .1)\n",
    "su = [calc_subjective_utility(i, np.median(sub_pars_PT_df['lambda']), \n",
    "                                np.median(sub_pars_PT_df['rho'])) for i in values]\n",
    "plt.plot(values, su)\n",
    "plt.axhline(0, color='black')\n",
    "plt.axvline(0, color='black')\n",
    "plt.ylabel('subjective value')\n",
    "plt.xlabel('face value')\n",
    "plt.savefig('narps_PT_value_function.png')"
   ]
  },
  {
   "cell_type": "code",
   "execution_count": null,
   "id": "b246937b",
   "metadata": {
    "lines_to_next_cell": 1
   },
   "outputs": [],
   "source": [
    "\n",
    "# plot predicted # of accepted gambles vs actual for each subject\n",
    "\n",
    "\n",
    "\n",
    "def get_predicted_output(sub_pars, subdata):\n",
    "    pred_output = []\n",
    "    for sub, pars in sub_pars.items():\n",
    "        cert_su = [calc_subjective_utility(i, pars[0], pars[1]) for i in subdata[sub].cert]\n",
    "        loss_su = [calc_subjective_utility(-1 * i, pars[0], pars[1]) for i in subdata[sub].loss]\n",
    "        gain_su = [calc_subjective_utility(i, pars[0], pars[1]) for i in subdata[sub].gain]\n",
    "        gamble_cert_diff = calc_utility_diff(gain_su, loss_su, cert_su)\n",
    "        prob_accept = calc_prob_accept(gamble_cert_diff, mu = pars[2])\n",
    "        n_pred_accepted = np.sum(prob_accept > 0.5)\n",
    "        n_accepted = np.sum(subdata[sub].response)\n",
    "        pred_acc = np.mean((prob_accept > 0.5) == subdata[sub].response)\n",
    "        pred_output.append([n_pred_accepted, n_accepted, pred_acc, sub, pars[0], pars[1], pars[2]])\n",
    "\n",
    "    return pd.DataFrame(pred_output, columns=['pred_accept', 'accept', 'predacc', 'sub', 'lambda', 'rho', 'mu']) \n",
    "\n",
    "pred_output_PT_df = get_predicted_output(sub_pars_PT, subdata)\n",
    "sns.scatterplot(data=pred_output_PT_df, x='pred_accept', y='accept', legend=False)\n",
    "plt.plot([0,256],[0,256], color='black')\n",
    "plt.savefig('narps_PT_pred_vs_actual.png')\n",
    "\n",
    "print('median accuracy = ', np.median(pred_output_PT_df.predacc))"
   ]
  },
  {
   "cell_type": "code",
   "execution_count": null,
   "id": "2d8d971c",
   "metadata": {
    "title": "markdown"
   },
   "outputs": [],
   "source": [
    "\n",
    "## Neural network model"
   ]
  },
  {
   "cell_type": "code",
   "execution_count": null,
   "id": "3e30c004",
   "metadata": {},
   "outputs": [],
   "source": [
    "# fit a neural network\n",
    "def fit_nn_model(df, verbose=0):\n",
    "\n",
    "    # define model\n",
    "    model = Sequential()\n",
    "    model.add(Dense(3, activation='relu', input_dim=2))\n",
    "    model.add(Dense(1, activation='sigmoid'))\n",
    "\n",
    "    # compile model\n",
    "    model.compile(optimizer='adam', \n",
    "                  loss='binary_crossentropy', \n",
    "                  metrics=['accuracy'])\n",
    "\n",
    "    # fit model\n",
    "    model.fit(df[['gain', 'loss']], df['response'], \n",
    "              epochs=100, batch_size=10, verbose=verbose)\n",
    "\n",
    "\n",
    "    loss, accuracy = model.evaluate(df[['gain', 'loss']], df['response'])\n",
    "    print('Train model loss:', loss)\n",
    "    print('Train model accuracy:', accuracy)\n",
    "\n",
    "    return model, accuracy\n",
    "\n",
    "nn_acc = {}\n",
    "pred_output_NN = []\n",
    "for sub in subjects:\n",
    "    model, nn_acc[sub] = fit_nn_model(subdata[sub])\n",
    "    pred = model.predict(subdata[sub][['gain', 'loss']])\n",
    "    pred_output_NN.append([nn_acc[sub], np.sum(pred > 0.5)])"
   ]
  },
  {
   "cell_type": "code",
   "execution_count": null,
   "id": "18436a2e",
   "metadata": {},
   "outputs": [],
   "source": [
    "\n",
    "visualizer(model, file_format='png', view=True)\n",
    "plt.savefig('narps_nn.png')"
   ]
  },
  {
   "cell_type": "code",
   "execution_count": null,
   "id": "40018298",
   "metadata": {},
   "outputs": [],
   "source": []
  }
 ],
 "metadata": {
  "jupytext": {
   "cell_metadata_filter": "title,-all",
   "main_language": "python",
   "notebook_metadata_filter": "-all"
  }
 },
 "nbformat": 4,
 "nbformat_minor": 5
}
